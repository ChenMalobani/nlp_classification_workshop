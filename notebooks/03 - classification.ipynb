{
 "cells": [
  {
   "cell_type": "code",
   "execution_count": 1,
   "metadata": {},
   "outputs": [],
   "source": [
    "import os, sys, re, collections, string\n",
    "from operator import itemgetter as at\n",
    "import numpy as np\n",
    "import pandas as pd\n",
    "from matplotlib import pyplot as plt\n",
    "from tqdm import tqdm\n",
    "sys.path.append(\"../python\")\n",
    "import data\n",
    "%matplotlib inline"
   ]
  },
  {
   "cell_type": "code",
   "execution_count": 2,
   "metadata": {},
   "outputs": [],
   "source": [
    "import spacy\n",
    "nlp = spacy.load('en')"
   ]
  },
  {
   "cell_type": "code",
   "execution_count": null,
   "metadata": {},
   "outputs": [
    {
     "name": "stderr",
     "output_type": "stream",
     "text": [
      " 18%|█▊        | 3057/17357 [04:06<19:12, 12.41it/s]"
     ]
    }
   ],
   "source": [
    "from sklearn.feature_extraction import text\n",
    "from sklearn.model_selection import train_test_split\n",
    "from sklearn.metrics import accuracy_score, classification_report\n",
    "X,y = data.stemmed()"
   ]
  },
  {
   "cell_type": "code",
   "execution_count": null,
   "metadata": {},
   "outputs": [],
   "source": [
    "X_train, X_test, y_train, y_test = train_test_split(X, y, test_size=0.3, random_state=20180301)"
   ]
  },
  {
   "cell_type": "markdown",
   "metadata": {},
   "source": [
    "Vectorization\n",
    "---"
   ]
  },
  {
   "cell_type": "code",
   "execution_count": null,
   "metadata": {},
   "outputs": [],
   "source": [
    "class AvgWordVectors:\n",
    "    def __init__(self, weights={}):\n",
    "        self.weights = weights\n",
    "    def fit(self, docs):\n",
    "        pass\n",
    "    def transform(self, docs):\n",
    "        ret = []\n",
    "        for doc in docs:\n",
    "            doc = nlp(doc)\n",
    "            v = None\n",
    "            for w in doc:\n",
    "                if not any(w.vector):\n",
    "                    continue\n",
    "                if v is not None:\n",
    "                    v+=w.vector\n",
    "                    n+=self.weights.get(w, 1.0)\n",
    "                else:\n",
    "                    v=w.vector\n",
    "                    n=self.weights.get(w, 1.0)\n",
    "            ret.append(v/n)\n",
    "        return ret"
   ]
  },
  {
   "cell_type": "code",
   "execution_count": null,
   "metadata": {},
   "outputs": [],
   "source": [
    "#vectorizer = text.CountVectorizer()\n",
    "vectorizer = text.TfidfVectorizer(max_features=1000)\n",
    "#vectorizer = AvgWordVectors()\n",
    "vectorizer.fit(X_train)\n",
    "X_train = vectorizer.transform(X_train)\n",
    "X_test = vectorizer.transform(X_test)\n",
    "X_test"
   ]
  },
  {
   "cell_type": "code",
   "execution_count": null,
   "metadata": {},
   "outputs": [],
   "source": [
    "vectorizer.get_feature_names()"
   ]
  },
  {
   "cell_type": "markdown",
   "metadata": {},
   "source": [
    "Testing various models\n",
    "---"
   ]
  },
  {
   "cell_type": "code",
   "execution_count": null,
   "metadata": {},
   "outputs": [],
   "source": [
    "#http://scikit-learn.org/stable/supervised_learning.html\n",
    "#http://scikit-learn.org/stable/auto_examples/classification/plot_classifier_comparison.html\n",
    "from sklearn.naive_bayes import MultinomialNB\n",
    "from sklearn.linear_model import SGDClassifier\n",
    "from sklearn.svm import LinearSVC\n",
    "from sklearn.tree import DecisionTreeClassifier\n",
    "from sklearn.ensemble import RandomForestClassifier\n",
    "from sklearn.neighbors import KNeighborsClassifier\n",
    "#model = MultinomialNB()\n",
    "model = SGDClassifier(loss=\"log\")\n",
    "#model = DecisionTreeClassifier()\n",
    "#model = RandomForestClassifier()\n",
    "#model = LinearSVC()\n",
    "model.fit(X_train, y_train)\n",
    "yh_train = model.predict(X_train)\n",
    "yh_test = model.predict(X_test)\n",
    "print (\"Train Accuracy: {train}\\nTest Accuracy: {test}\".format(train=accuracy_score(y_train, yh_train),test=accuracy_score(y_test, yh_test)))"
   ]
  },
  {
   "cell_type": "code",
   "execution_count": null,
   "metadata": {},
   "outputs": [],
   "source": [
    "print(classification_report(y_test, yh_test))"
   ]
  }
 ],
 "metadata": {
  "kernelspec": {
   "display_name": "Python 3",
   "language": "python",
   "name": "python3"
  },
  "language_info": {
   "codemirror_mode": {
    "name": "ipython",
    "version": 3
   },
   "file_extension": ".py",
   "mimetype": "text/x-python",
   "name": "python",
   "nbconvert_exporter": "python",
   "pygments_lexer": "ipython3",
   "version": "3.6.4"
  }
 },
 "nbformat": 4,
 "nbformat_minor": 2
}
