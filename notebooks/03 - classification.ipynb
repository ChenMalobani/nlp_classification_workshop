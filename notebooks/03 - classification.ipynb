{
 "cells": [
  {
   "cell_type": "code",
   "execution_count": 1,
   "metadata": {},
   "outputs": [],
   "source": [
    "import os, sys, re, collections, string\n",
    "from operator import itemgetter as at\n",
    "import numpy as np\n",
    "import pandas as pd\n",
    "from matplotlib import pyplot as plt\n",
    "from tqdm import tqdm\n",
    "sys.path.append(\"../python\")\n",
    "import data\n",
    "%matplotlib inline"
   ]
  },
  {
   "cell_type": "code",
   "execution_count": 2,
   "metadata": {},
   "outputs": [],
   "source": [
    "from sklearn.feature_extraction import text\n",
    "from sklearn.model_selection import train_test_split\n",
    "from sklearn.metrics import accuracy_score, classification_report\n",
    "X,y = data.preprocessed()"
   ]
  },
  {
   "cell_type": "code",
   "execution_count": 3,
   "metadata": {},
   "outputs": [],
   "source": [
    "X_train, X_test, y_train, y_test = train_test_split(X, y, test_size=0.2, random_state=20180301)"
   ]
  },
  {
   "cell_type": "code",
   "execution_count": 4,
   "metadata": {},
   "outputs": [],
   "source": [
    "#vectorizer = text.CountVectorizer()\n",
    "vectorizer = text.TfidfVectorizer()\n",
    "vectorizer.fit(X_train)\n",
    "X_train = vectorizer.transform(X_train)\n",
    "X_test = vectorizer.transform(X_test)"
   ]
  },
  {
   "cell_type": "markdown",
   "metadata": {},
   "source": [
    "Testing various models\n",
    "---"
   ]
  },
  {
   "cell_type": "code",
   "execution_count": 7,
   "metadata": {},
   "outputs": [
    {
     "name": "stdout",
     "output_type": "stream",
     "text": [
      "Train Accuracy: 0.9993518185091825\n",
      "Test Accuracy: 0.9985599078341014\n"
     ]
    }
   ],
   "source": [
    "#http://scikit-learn.org/stable/supervised_learning.html\n",
    "#http://scikit-learn.org/stable/auto_examples/classification/plot_classifier_comparison.html\n",
    "from sklearn.naive_bayes import MultinomialNB\n",
    "from sklearn.linear_model import SGDClassifier\n",
    "from sklearn.svm import LinearSVC\n",
    "from sklearn.tree import DecisionTreeClassifier\n",
    "from sklearn.ensemble import RandomForestClassifier\n",
    "from sklearn.neighbors import KNeighborsClassifier\n",
    "#model = MultinomialNB()\n",
    "#model = SGDClassifier(loss=\"log\")\n",
    "#model = DecisionTreeClassifier()\n",
    "#model = RandomForestClassifier()\n",
    "model = LinearSVC()\n",
    "model.fit(X_train, y_train)\n",
    "yh_train = model.predict(X_train)\n",
    "yh_test = model.predict(X_test)\n",
    "print (\"Train Accuracy: {train}\\nTest Accuracy: {test}\".format(train=accuracy_score(y_train, yh_train),test=accuracy_score(y_test, yh_test)))"
   ]
  },
  {
   "cell_type": "code",
   "execution_count": 6,
   "metadata": {},
   "outputs": [
    {
     "name": "stdout",
     "output_type": "stream",
     "text": [
      "             precision    recall  f1-score   support\n",
      "\n",
      "        SPA       0.96      0.98      0.97       365\n",
      "     credit       0.97      0.93      0.95       268\n",
      " employment       1.00      1.00      1.00      2839\n",
      "\n",
      "avg / total       0.99      0.99      0.99      3472\n",
      "\n"
     ]
    }
   ],
   "source": [
    "print(classification_report(y_test, yh_test))"
   ]
  }
 ],
 "metadata": {
  "kernelspec": {
   "display_name": "Python 3",
   "language": "python",
   "name": "python3"
  },
  "language_info": {
   "codemirror_mode": {
    "name": "ipython",
    "version": 3
   },
   "file_extension": ".py",
   "mimetype": "text/x-python",
   "name": "python",
   "nbconvert_exporter": "python",
   "pygments_lexer": "ipython3",
   "version": "3.6.4"
  }
 },
 "nbformat": 4,
 "nbformat_minor": 2
}
